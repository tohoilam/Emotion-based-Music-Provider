{
 "cells": [
  {
   "cell_type": "code",
   "execution_count": 1,
   "id": "73a5787d-432d-4ab2-828c-0ba39ed6ae5c",
   "metadata": {},
   "outputs": [],
   "source": [
    "import zipfile\n",
    "import os\n",
    "import shutil"
   ]
  },
  {
   "cell_type": "code",
   "execution_count": null,
   "id": "db2bf86e-7c77-4920-9572-dafa3fb5bce1",
   "metadata": {},
   "outputs": [],
   "source": [
    "folder = \"/userhome/30/hlto/HKU/FYP/Speech_Emotion_Recognition/Data/IEMOCAP\"\n",
    "zipped_file = \"Sentences.zip\"\n",
    "zipped_dir = os.path.join(folder, zipped_file)\n",
    "\n",
    "with zipfile.ZipFile(zipped_dir, 'r') as zip_ref:\n",
    "    zip_ref.extractall(folder)"
   ]
  },
  {
   "cell_type": "markdown",
   "id": "30620677-0c01-4f3f-8a1e-f5bcd808c7c8",
   "metadata": {},
   "source": [
    "# Zip"
   ]
  },
  {
   "cell_type": "code",
   "execution_count": 4,
   "id": "50cd538a-42b3-4b51-8bd3-6015b474f0b0",
   "metadata": {},
   "outputs": [
    {
     "data": {
      "text/plain": [
       "'/userhome/30/hlto/HKU/FYP/Speech_Emotion_Recognition/12-20 15h49m56s (Experiment 9) CNN Model A (200 Epochs) (Session 1-5) (Ignore Other) (5 Emotions with Merge and Split 4 Ignore 2) TrainedModel.zip'"
      ]
     },
     "execution_count": 4,
     "metadata": {},
     "output_type": "execute_result"
    }
   ],
   "source": [
    "# Change here\n",
    "output_filename = \"12-20 15h49m56s (Experiment 9) CNN Model A (200 Epochs) (Session 1-5) (Ignore Other) (5 Emotions with Merge and Split 4 Ignore 2)\"\n",
    "\n",
    "# Don't change!\n",
    "output_filename_modelLog = output_filename + \" ModelLog\"\n",
    "dir_name_modelLog = os.path.join(\"/userhome/30/hlto/HKU/FYP/Speech_Emotion_Recognition/IEMOCAP_ModelLog\", output_filename)\n",
    "output_filename_trainedModel = output_filename + \" TrainedModel\"\n",
    "dir_name_trainedModel = os.path.join(\"/userhome/30/hlto/HKU/FYP/Speech_Emotion_Recognition/IEMOCAP_TrainedModel\", output_filename)\n",
    "\n",
    "shutil.make_archive(output_filename_modelLog, 'zip', dir_name_modelLog)\n",
    "shutil.make_archive(output_filename_trainedModel, 'zip', dir_name_trainedModel)\n"
   ]
  },
  {
   "cell_type": "code",
   "execution_count": null,
   "id": "f78a6763-6f97-4977-9ea8-e4e6e13d03c6",
   "metadata": {},
   "outputs": [],
   "source": []
  }
 ],
 "metadata": {
  "kernelspec": {
   "display_name": "Python 3",
   "language": "python",
   "name": "python3"
  },
  "language_info": {
   "codemirror_mode": {
    "name": "ipython",
    "version": 3
   },
   "file_extension": ".py",
   "mimetype": "text/x-python",
   "name": "python",
   "nbconvert_exporter": "python",
   "pygments_lexer": "ipython3",
   "version": "3.8.3 (v3.8.3:6f8c8320e9, May 13 2020, 16:29:34) \n[Clang 6.0 (clang-600.0.57)]"
  },
  "vscode": {
   "interpreter": {
    "hash": "aee8b7b246df8f9039afb4144a1f6fd8d2ca17a180786b69acc140d282b71a49"
   }
  }
 },
 "nbformat": 4,
 "nbformat_minor": 5
}
