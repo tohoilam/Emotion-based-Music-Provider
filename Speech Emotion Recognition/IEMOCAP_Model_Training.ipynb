{
  "cells": [
    {
      "cell_type": "code",
      "execution_count": 1,
      "metadata": {
        "colab": {
          "base_uri": "https://localhost:8080/"
        },
        "id": "76paNa0NCvvv",
        "outputId": "248f53f1-7e56-45ea-9886-e72f4aad0d8d"
      },
      "outputs": [
        {
          "name": "stderr",
          "output_type": "stream",
          "text": [
            "/Library/Frameworks/Python.framework/Versions/3.8/lib/python3.8/site-packages/pydub/utils.py:170: RuntimeWarning: Couldn't find ffmpeg or avconv - defaulting to ffmpeg, but may not work\n",
            "  warn(\"Couldn't find ffmpeg or avconv - defaulting to ffmpeg, but may not work\", RuntimeWarning)\n"
          ]
        },
        {
          "name": "stdout",
          "output_type": "stream",
          "text": [
            "TensorFlow version:   2.7.0\n",
            "TensorBoard version:  2.10.0\n"
          ]
        }
      ],
      "source": [
        "import os\n",
        "import numpy as np\n",
        "import pandas as pd\n",
        "import seaborn as sns\n",
        "\n",
        "from pydub import AudioSegment, effects\n",
        "from pydub.generators import WhiteNoise\n",
        "from pydub.playback import play\n",
        "from pydub.utils import mediainfo\n",
        "import librosa\n",
        "from librosa import display   \n",
        "import noisereduce as nr\n",
        "import IPython.display as ipd\n",
        "from IPython.display import Audio\n",
        "from IPython.display import clear_output\n",
        "import matplotlib.pyplot as plt\n",
        "import pytz\n",
        "import cv2\n",
        "\n",
        "import tensorflow as tf\n",
        "import tensorboard\n",
        "from sklearn import metrics\n",
        "from sklearn.preprocessing import LabelEncoder\n",
        "from json_tricks import dump, load\n",
        "\n",
        "from DataIEMOCAP import DataIEMOCAP\n",
        "from CNNModel import CNNModel\n",
        "from Evaluation import Evaluation\n",
        "\n",
        "from datetime import datetime\n",
        "import warnings\n",
        "warnings.filterwarnings('ignore')\n",
        "\n",
        "print(\"TensorFlow version:  \", tf.__version__)\n",
        "print(\"TensorBoard version: \", tensorboard.__version__)\n",
        "\n",
        "tz = pytz.timezone('Asia/Hong_Kong')"
      ]
    },
    {
      "cell_type": "code",
      "execution_count": 2,
      "metadata": {},
      "outputs": [
        {
          "name": "stdout",
          "output_type": "stream",
          "text": [
            "Data Extration Completed\n",
            "    Number of data: 7501\n",
            "      Neutral     : 1718\n",
            "      Frustration : 1866\n",
            "      Anger       : 1118\n",
            "      Sadness     : 1135\n",
            "      Happiness   : 1664\n",
            "      Excitement  : 0\n",
            "      Surprise    : 0\n",
            "      Disgust     : 0\n",
            "      Fear        : 0\n",
            "\n",
            "Processing data to Mel Spectrogram...\n",
            "Mel Spectrogram Processing Completed\n",
            "    Shape of images: (7501, 256, 256, 1)\n",
            "\n",
            "Processing labels...\n",
            "Label Processing Completed\n",
            "\n",
            "Splitting data...\n",
            "Data Split Completed\n",
            "\n",
            "Data Processing Completed!\n",
            "  Data shapes:\n",
            "    x_train  : (6001, 256, 256, 1)\n",
            "    y_train  : (6001,)\n",
            "    sr_train : (6001,)\n",
            "    x_test   : (1500, 256, 256, 1)\n",
            "    y_test   : (1500,)\n",
            "    sr_test  : (1500,)\n",
            "\n"
          ]
        }
      ],
      "source": [
        "labelsToInclude = ['Neutral', 'Frustration', 'Anger', 'Sadness', 'Happiness']\n",
        "mergeHappinessExcitement = True\n",
        "ignoreDuration = 6\n",
        "\n",
        "dataModel5LabelsIgnore6 = DataIEMOCAP(labelsToInclude=labelsToInclude,\n",
        "                                      mergeHappinessExcitement=mergeHappinessExcitement,\n",
        "                                      ignoreDuration=ignoreDuration)\n",
        "dataModel5LabelsIgnore6.processData()"
      ]
    },
    {
      "cell_type": "code",
      "execution_count": null,
      "metadata": {},
      "outputs": [],
      "source": [
        "def training7(dataModel, experimentName, modelName, epochs):\n",
        "  ySize = len(dataModel.labels_name)\n",
        "\n",
        "  cnnModel = CNNModel(modelName, experimentName, ySize=ySize)\n",
        "  history = cnnModel.fit(dataModel.x_train, dataModel.y_train, epochs, dataModel.validation_percent)\n",
        "  \n",
        "  evaluation = Evaluation(dataModel, cnnModel.resultDir, cnnModel.logDir, model=cnnModel.model)\n",
        "  evaluation.evaluateAllHistory(history)\n",
        "  \n",
        "  print('')\n",
        "  print('File Name: ' + cnnModel.logDir.split('/')[-1])\n",
        "\n",
        "experimentName = \"(Experiment 7) CNN Model A (200 Epochs) (Session 1-5) (Ignore Other) (5 Emotions with Merge and Ignore 6 lower)\"\n",
        "modelName = \"modelA\"\n",
        "epochs = 200\n",
        "\n",
        "training7(dataModel5LabelsIgnore6, experimentName, modelName, epochs)"
      ]
    },
    {
      "cell_type": "code",
      "execution_count": null,
      "metadata": {},
      "outputs": [],
      "source": [
        "labelsToInclude = ['Neutral', 'Frustration', 'Anger', 'Sadness', 'Happiness']\n",
        "mergeHappinessExcitement = True\n",
        "splitDuration = 4\n",
        "ignoreDuration = 1\n",
        "\n",
        "dataModel5LabelsSplit4 = DataIEMOCAP(labelsToInclude=labelsToInclude,\n",
        "                                      mergeHappinessExcitement=mergeHappinessExcitement,\n",
        "                                      splitDuration=splitDuration,\n",
        "                                      ignoreDuration=ignoreDuration)\n",
        "dataModel5LabelsSplit4.processData()"
      ]
    },
    {
      "cell_type": "code",
      "execution_count": null,
      "metadata": {},
      "outputs": [],
      "source": [
        "def training8(dataModel, experimentName, modelName, epochs):\n",
        "  ySize = len(dataModel.labels_name)\n",
        "\n",
        "  cnnModel = CNNModel(modelName, experimentName, ySize=ySize)\n",
        "  history = cnnModel.fit(dataModel.x_train, dataModel.y_train, epochs, dataModel.validation_percent)\n",
        "  \n",
        "  evaluation = Evaluation(dataModel, cnnModel.resultDir, cnnModel.logDir, model=cnnModel.model)\n",
        "  evaluation.evaluateAllHistory(history)\n",
        "  \n",
        "  print('')\n",
        "  print('File Name: ' + cnnModel.logDir.split('/')[-1])\n",
        "\n",
        "experimentName = \"(Experiment 8) CNN Model A (200 Epochs) (Session 1-5) (Ignore Other) (5 Emotions with Merge and Split 4)\"\n",
        "modelName = \"modelA\"\n",
        "epochs = 200\n",
        "\n",
        "training8(dataModel5LabelsSplit4, experimentName, modelName, epochs)"
      ]
    },
    {
      "cell_type": "code",
      "execution_count": null,
      "metadata": {},
      "outputs": [],
      "source": [
        "labelsToInclude = ['Neutral', 'Frustration', 'Anger', 'Sadness', 'Happiness']\n",
        "mergeHappinessExcitement = True\n",
        "splitDuration = 4\n",
        "ignoreDuration = 2\n",
        "\n",
        "dataModel5LabelsSplit4Ignore2 = DataIEMOCAP(labelsToInclude=labelsToInclude,\n",
        "                                      mergeHappinessExcitement=mergeHappinessExcitement,\n",
        "                                      splitDuration=splitDuration,\n",
        "                                      ignoreDuration=ignoreDuration)\n",
        "dataModel5LabelsSplit4Ignore2.processData()"
      ]
    },
    {
      "cell_type": "code",
      "execution_count": null,
      "metadata": {},
      "outputs": [],
      "source": [
        "def training9(dataModel, experimentName, modelName, epochs):\n",
        "  ySize = len(dataModel.labels_name)\n",
        "\n",
        "  cnnModel = CNNModel(modelName, experimentName, ySize=ySize)\n",
        "  history = cnnModel.fit(dataModel.x_train, dataModel.y_train, epochs, dataModel.validation_percent)\n",
        "  \n",
        "  evaluation = Evaluation(dataModel, cnnModel.resultDir, cnnModel.logDir, model=cnnModel.model)\n",
        "  evaluation.evaluateAllHistory(history)\n",
        "  \n",
        "  print('')\n",
        "  print('File Name: ' + cnnModel.logDir.split('/')[-1])\n",
        "\n",
        "experimentName = \"(Experiment 9) CNN Model A (200 Epochs) (Session 1-5) (Ignore Other) (5 Emotions with Merge and Split 4 Ignore 2)\"\n",
        "modelName = \"modelA\"\n",
        "epochs = 200\n",
        "\n",
        "training9(dataModel5LabelsSplit4Ignore2, experimentName, modelName, epochs)"
      ]
    }
  ],
  "metadata": {
    "colab": {
      "provenance": []
    },
    "gpuClass": "premium",
    "kernelspec": {
      "display_name": "Python 3.8.3 64-bit",
      "language": "python",
      "name": "python3"
    },
    "language_info": {
      "codemirror_mode": {
        "name": "ipython",
        "version": 3
      },
      "file_extension": ".py",
      "mimetype": "text/x-python",
      "name": "python",
      "nbconvert_exporter": "python",
      "pygments_lexer": "ipython3",
      "version": "3.8.3"
    },
    "vscode": {
      "interpreter": {
        "hash": "aee8b7b246df8f9039afb4144a1f6fd8d2ca17a180786b69acc140d282b71a49"
      }
    }
  },
  "nbformat": 4,
  "nbformat_minor": 0
}
