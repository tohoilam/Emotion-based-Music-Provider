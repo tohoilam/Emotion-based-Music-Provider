{
 "cells": [
  {
   "cell_type": "code",
   "execution_count": null,
   "metadata": {},
   "outputs": [],
   "source": [
    "import os\n",
    "from Evaluation import Evaluation\n",
    "from DataModel import DataModel\n",
    "\n",
    "import warnings\n",
    "warnings.filterwarnings('ignore')"
   ]
  },
  {
   "cell_type": "code",
   "execution_count": null,
   "metadata": {},
   "outputs": [],
   "source": [
    "logFolder = os.path.join(os.getcwd(), 'IEMOCAP_ModelLog')\n",
    "resultFolder = os.path.join(os.getcwd(), 'IEMOCAP_TrainedModel')"
   ]
  },
  {
   "attachments": {},
   "cell_type": "markdown",
   "metadata": {},
   "source": [
    "# Data Model"
   ]
  },
  {
   "cell_type": "code",
   "execution_count": null,
   "metadata": {},
   "outputs": [],
   "source": [
    "labelsToInclude = ['Neutral', 'Frustration', 'Anger', 'Sadness', 'Happiness']\n",
    "mergeHappinessExcitement = True\n",
    "splitDuration = 4\n",
    "ignoreDuration = 2\n",
    "\n",
    "mixDataModel5LabelsSplit4Ignore2 = DataModel(labelsToInclude=labelsToInclude,\n",
    "                                                  mergeHappinessExcitement=mergeHappinessExcitement,\n",
    "                                                  splitDuration=splitDuration,\n",
    "                                                  ignoreDuration=ignoreDuration)\n",
    "mixDataModel5LabelsSplit4Ignore2.extractIEMOCAPData()\n",
    "mixDataModel5LabelsSplit4Ignore2.extractEmoDBData()\n",
    "mixDataModel5LabelsSplit4Ignore2.processData()"
   ]
  },
  {
   "attachments": {},
   "cell_type": "markdown",
   "metadata": {},
   "source": [
    "# Experiments"
   ]
  },
  {
   "attachments": {},
   "cell_type": "markdown",
   "metadata": {},
   "source": [
    "## Experiment 14"
   ]
  },
  {
   "cell_type": "code",
   "execution_count": null,
   "metadata": {},
   "outputs": [],
   "source": []
  }
 ],
 "metadata": {
  "kernelspec": {
   "display_name": "Python 3",
   "language": "python",
   "name": "python3"
  },
  "language_info": {
   "codemirror_mode": {
    "name": "ipython",
    "version": 3
   },
   "file_extension": ".py",
   "mimetype": "text/x-python",
   "name": "python",
   "nbconvert_exporter": "python",
   "pygments_lexer": "ipython3",
   "version": "3.8.3"
  },
  "orig_nbformat": 4,
  "vscode": {
   "interpreter": {
    "hash": "aee8b7b246df8f9039afb4144a1f6fd8d2ca17a180786b69acc140d282b71a49"
   }
  }
 },
 "nbformat": 4,
 "nbformat_minor": 2
}
