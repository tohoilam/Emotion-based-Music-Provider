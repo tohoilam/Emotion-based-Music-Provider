{
  "cells": [
    {
      "cell_type": "code",
      "execution_count": 1,
      "metadata": {
        "colab": {
          "base_uri": "https://localhost:8080/"
        },
        "id": "76paNa0NCvvv",
        "outputId": "248f53f1-7e56-45ea-9886-e72f4aad0d8d"
      },
      "outputs": [
        {
          "name": "stdout",
          "output_type": "stream",
          "text": [
            "TensorFlow version:   2.7.0\n",
            "TensorBoard version:  2.10.0\n"
          ]
        }
      ],
      "source": [
        "import os\n",
        "import numpy as np\n",
        "import pandas as pd\n",
        "import seaborn as sns\n",
        "\n",
        "from pydub import AudioSegment, effects\n",
        "from pydub.generators import WhiteNoise\n",
        "from pydub.playback import play\n",
        "from pydub.utils import mediainfo\n",
        "import librosa\n",
        "from librosa import display   \n",
        "import noisereduce as nr\n",
        "import IPython.display as ipd\n",
        "from IPython.display import Audio\n",
        "from IPython.display import clear_output\n",
        "import matplotlib.pyplot as plt\n",
        "import pytz\n",
        "import cv2\n",
        "\n",
        "import tensorflow as tf\n",
        "import tensorboard\n",
        "from sklearn import metrics\n",
        "from sklearn.preprocessing import LabelEncoder\n",
        "from json_tricks import dump, load\n",
        "\n",
        "from DataModel import DataModel\n",
        "from SERModel import SERModel\n",
        "from Evaluation import Evaluation\n",
        "\n",
        "from datetime import datetime\n",
        "import warnings\n",
        "warnings.filterwarnings('ignore')\n",
        "\n",
        "print(\"TensorFlow version:  \", tf.__version__)\n",
        "print(\"TensorBoard version: \", tensorboard.__version__)\n",
        "\n",
        "tz = pytz.timezone('Asia/Hong_Kong')"
      ]
    },
    {
      "cell_type": "code",
      "execution_count": 2,
      "metadata": {},
      "outputs": [
        {
          "name": "stdout",
          "output_type": "stream",
          "text": [
            "Loading and Extracting EmoDB Data...\n",
            "    Loaded and Extracted   408 data\n",
            "\n",
            "Data Extration Completed\n",
            "    Number of data: 408\n",
            "      Neutral     : 79\n",
            "      Frustration : 69\n",
            "      Anger       : 127\n",
            "      Sadness     : 62\n",
            "      Happiness   : 71\n",
            "      Excitement  : 0\n",
            "      Surprise    : 0\n",
            "      Disgust     : 0\n",
            "      Fear        : 0\n",
            "      Boredom     : 0\n",
            "\n",
            "Splitting data...\n",
            "Train Test Split Completed\n",
            "    Training Size : 327\n",
            "    Testing Size  : 81\n",
            "\n",
            "Split or Add Padding for training data:\n",
            "    Split Duration  : 8\n",
            "    Ignore Duration : 2\n",
            "Processing...\n",
            "    Processed   327 data split and padding\n",
            "Data Splitting and Padding For Training Completed!\n",
            "\n",
            "Processing training data to Mel Spectrogram...\n",
            "    Processed   327 Mel Spectrogram\n",
            "Mel Spectrogram Processing For Training Completed\n",
            "    Shape of training images: (327, 128, 251, 1)\n",
            "\n",
            "Processing training labels...\n",
            "Label Processing For Training Completed\n",
            "\n",
            "Split or Add Padding for testing data\n",
            "    Split Duration  : 8\n",
            "    Ignore Duration : 2\n",
            "Processing...\n",
            "    Processed    81 data split and padding\n",
            "Data Splitting and Padding For Testing Completed!\n",
            "\n",
            "Processing testing data to Mel Spectrogram...\n",
            "    Processed    81 Mel Spectrogram\n",
            "Mel Spectrogram Processing For Testing Completed\n",
            "    Shape of testing images: (81, 128, 251, 1)\n",
            "\n",
            "Processing testing labels...\n",
            "Label Processing For Testing Completed\n",
            "\n",
            "Data Processing Completed!\n",
            "  Data shapes:\n",
            "    x_train  : (327, 128, 251, 1)\n",
            "    y_train  : (327,)\n",
            "    sr_train : (327,)\n",
            "    x_test   : (81, 128, 251, 1)\n",
            "    y_test   : (81,)\n",
            "    sr_test  : (81,)\n",
            "\n"
          ]
        }
      ],
      "source": [
        "labelsToInclude = ['Anger', 'Frustration', 'Happiness', 'Neutral',  'Sadness']\n",
        "mergeHappinessExcitement = True\n",
        "splitDuration = 4\n",
        "ignoreDuration = 2\n",
        "transformByStft=True\n",
        "hop_length = 512\n",
        "win_length = 2048\n",
        "n_mels = 128\n",
        "\n",
        "# Data Augmentation Parameters\n",
        "# multiply = 3\n",
        "# pitchScaleSemitonesOffset=3.0\n",
        "# timeStretchOffset=0.2\n",
        "# randomGainOffset=0.2\n",
        "# addNoiseMaxFactor=0.2\n",
        "\n",
        "mixDataModel5LabelsSplit4Ignore2Stft = DataModel(labelsToInclude=labelsToInclude,\n",
        "                                                mergeHappinessExcitement=mergeHappinessExcitement,\n",
        "                                                splitDuration=splitDuration,\n",
        "                                                ignoreDuration=ignoreDuration,\n",
        "                                                transformByStft=transformByStft,\n",
        "                                                hop_length=hop_length,\n",
        "                                                win_length=win_length,\n",
        "                                                n_mels=n_mels)\n",
        "mixDataModel5LabelsSplit4Ignore2Stft.extractIEMOCAPData()\n",
        "mixDataModel5LabelsSplit4Ignore2Stft.extractEmoDBData()\n",
        "mixDataModel5LabelsSplit4Ignore2Stft.processData()"
      ]
    },
    {
      "cell_type": "code",
      "execution_count": 4,
      "metadata": {},
      "outputs": [
        {
          "ename": "NameError",
          "evalue": "name 'mixDataModel5LabelsSplit4Ignore2Stft' is not defined",
          "output_type": "error",
          "traceback": [
            "\u001b[0;31m---------------------------------------------------------------------------\u001b[0m",
            "\u001b[0;31mNameError\u001b[0m                                 Traceback (most recent call last)",
            "\u001b[1;32m/Users/alexto/Documents/Programming/HKU/FYP/Speech Emotion Recognition/Model_Training.ipynb Cell 3\u001b[0m in \u001b[0;36m<cell line: 30>\u001b[0;34m()\u001b[0m\n\u001b[1;32m     <a href='vscode-notebook-cell:/Users/alexto/Documents/Programming/HKU/FYP/Speech%20Emotion%20Recognition/Model_Training.ipynb#W3sZmlsZQ%3D%3D?line=26'>27</a>\u001b[0m activation \u001b[39m=\u001b[39m \u001b[39m'\u001b[39m\u001b[39mrelu\u001b[39m\u001b[39m'\u001b[39m\n\u001b[1;32m     <a href='vscode-notebook-cell:/Users/alexto/Documents/Programming/HKU/FYP/Speech%20Emotion%20Recognition/Model_Training.ipynb#W3sZmlsZQ%3D%3D?line=27'>28</a>\u001b[0m optimizer \u001b[39m=\u001b[39m \u001b[39m'\u001b[39m\u001b[39mrmsprop\u001b[39m\u001b[39m'\u001b[39m\n\u001b[0;32m---> <a href='vscode-notebook-cell:/Users/alexto/Documents/Programming/HKU/FYP/Speech%20Emotion%20Recognition/Model_Training.ipynb#W3sZmlsZQ%3D%3D?line=29'>30</a>\u001b[0m training23(mixDataModel5LabelsSplit4Ignore2Stft, experimentName, modelName, epochs, early_stopping_patience, activation, optimizer)\n",
            "\u001b[0;31mNameError\u001b[0m: name 'mixDataModel5LabelsSplit4Ignore2Stft' is not defined"
          ]
        }
      ],
      "source": [
        "def training26(dataModel, experimentName, modelName, epochs, early_stopping_patience, activation, optimizer, loss):\n",
        "  ySize = len(dataModel.labels_name)\n",
        "  learning_rate = 0.00005\n",
        "  decay = 0.0005\n",
        "  input_shape = dataModel.x_train[0].shape\n",
        "\n",
        "  cnnModel = SERModel(modelName,\n",
        "                      experimentName,\n",
        "                      ySize=ySize,\n",
        "                      optimizerChoice=optimizer,\n",
        "                      learning_rate=learning_rate,\n",
        "                      decay=decay,\n",
        "                      lossChoice=loss,\n",
        "                      input_shape=input_shape,\n",
        "                      activation=activation)\n",
        "  \n",
        "  history = cnnModel.fit(dataModel.x_train, dataModel.y_train, epochs, dataModel.validation_percent, early_stopping_patience=early_stopping_patience)\n",
        "  \n",
        "  evaluation = Evaluation(dataModel, cnnModel.resultDir, cnnModel.logDir, model=cnnModel.model)\n",
        "  evaluation.evaluateAllHistory(history)\n",
        "  \n",
        "  print('')\n",
        "  print('File Name: ' + cnnModel.logDir.split('/')[-1])\n",
        "  \n",
        "  return evaluation\n",
        "\n",
        "experimentName = \"(Experiment 26) CNN Model A STFT RegL2 CCE (200 Epochs) (IEMOCAP EmoDB) (No Data Aug) (5 Emotions with Merge and Split 4 Ignore 2 STFT) (00005 lr 0005 decay Stop 5)\"\n",
        "modelName = \"cnnModelBstftRegL2\"\n",
        "epochs = 200\n",
        "early_stopping_patience = 5\n",
        "activation = 'relu'\n",
        "optimizer = 'adam'\n",
        "loss = 'cce'\n",
        "\n",
        "training26(mixDataModel5LabelsSplit4Ignore2Stft, experimentName, modelName, epochs, early_stopping_patience, activation, optimizer, loss)"
      ]
    },
    {
      "cell_type": "code",
      "execution_count": null,
      "metadata": {},
      "outputs": [],
      "source": []
    }
  ],
  "metadata": {
    "colab": {
      "provenance": []
    },
    "gpuClass": "premium",
    "kernelspec": {
      "display_name": "Python 3.8.3 64-bit",
      "language": "python",
      "name": "python3"
    },
    "language_info": {
      "codemirror_mode": {
        "name": "ipython",
        "version": 3
      },
      "file_extension": ".py",
      "mimetype": "text/x-python",
      "name": "python",
      "nbconvert_exporter": "python",
      "pygments_lexer": "ipython3",
      "version": "3.8.3"
    },
    "vscode": {
      "interpreter": {
        "hash": "aee8b7b246df8f9039afb4144a1f6fd8d2ca17a180786b69acc140d282b71a49"
      }
    }
  },
  "nbformat": 4,
  "nbformat_minor": 0
}
