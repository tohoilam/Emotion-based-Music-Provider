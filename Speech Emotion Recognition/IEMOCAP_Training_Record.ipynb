{
  "cells": [
    {
      "cell_type": "code",
      "execution_count": 1,
      "metadata": {},
      "outputs": [
        {
          "name": "stderr",
          "output_type": "stream",
          "text": [
            "/Library/Frameworks/Python.framework/Versions/3.8/lib/python3.8/site-packages/pydub/utils.py:170: RuntimeWarning: Couldn't find ffmpeg or avconv - defaulting to ffmpeg, but may not work\n",
            "  warn(\"Couldn't find ffmpeg or avconv - defaulting to ffmpeg, but may not work\", RuntimeWarning)\n"
          ]
        },
        {
          "name": "stdout",
          "output_type": "stream",
          "text": [
            "TensorFlow version:   2.7.0\n",
            "TensorBoard version:  2.10.0\n"
          ]
        }
      ],
      "source": [
        "import os\n",
        "import numpy as np\n",
        "import pandas as pd\n",
        "import seaborn as sns\n",
        "\n",
        "from pydub import AudioSegment, effects\n",
        "from pydub.generators import WhiteNoise\n",
        "from pydub.playback import play\n",
        "from pydub.utils import mediainfo\n",
        "import librosa\n",
        "from librosa import display   \n",
        "import noisereduce as nr\n",
        "import IPython.display as ipd\n",
        "from IPython.display import Audio\n",
        "from IPython.display import clear_output\n",
        "import matplotlib.pyplot as plt\n",
        "import pytz\n",
        "import cv2\n",
        "\n",
        "import tensorflow as tf\n",
        "import tensorboard\n",
        "from sklearn import metrics\n",
        "from sklearn.preprocessing import LabelEncoder\n",
        "from json_tricks import dump, load\n",
        "\n",
        "from DataModel import DataModel\n",
        "from CNNModel import CNNModel\n",
        "from Evaluation import Evaluation\n",
        "\n",
        "from datetime import datetime\n",
        "import warnings\n",
        "warnings.filterwarnings('ignore')\n",
        "\n",
        "print(\"TensorFlow version:  \", tf.__version__)\n",
        "print(\"TensorBoard version: \", tensorboard.__version__)\n",
        "\n",
        "tz = pytz.timezone('Asia/Hong_Kong')"
      ]
    },
    {
      "attachments": {},
      "cell_type": "markdown",
      "metadata": {},
      "source": [
        "# Data Model"
      ]
    },
    {
      "cell_type": "code",
      "execution_count": null,
      "metadata": {},
      "outputs": [],
      "source": [
        "labelsToInclude = ['Neutral', 'Frustration', 'Anger', 'Sadness', 'Happiness', 'Excitement', 'Surprise', 'Disgust', 'Fear']\n",
        "\n",
        "iemocapAll = DataModel(labelsToInclude=labelsToInclude)\n",
        "iemocapAll.extractIEMOCAPData()\n",
        "iemocapAll.processData()"
      ]
    },
    {
      "cell_type": "code",
      "execution_count": null,
      "metadata": {},
      "outputs": [],
      "source": [
        "labelsToInclude = ['Neutral', 'Frustration', 'Anger', 'Sadness', 'Happiness']\n",
        "mergeHappinessExcitement = True\n",
        "\n",
        "iemocap5Labels = DataModel(labelsToInclude=labelsToInclude, mergeHappinessExcitement=mergeHappinessExcitement)\n",
        "iemocap5Labels.extractIEMOCAPData()\n",
        "iemocap5Labels.processData()"
      ]
    },
    {
      "attachments": {},
      "cell_type": "markdown",
      "metadata": {},
      "source": [
        "# Training"
      ]
    },
    {
      "attachments": {},
      "cell_type": "markdown",
      "metadata": {},
      "source": [
        "## Training 1 (CNN Model A, 1000 Epochs, Session 1-5, Ignore Other)"
      ]
    },
    {
      "cell_type": "code",
      "execution_count": null,
      "metadata": {},
      "outputs": [],
      "source": [
        "def training1(dataModel, experimentName, modelName, epochs):\n",
        "  ySize = len(dataModel.labels_name)\n",
        "  \n",
        "  cnnModel = CNNModel(modelName, experimentName, ySize=ySize)\n",
        "  history = cnnModel.fit(dataModel.x_train, dataModel.y_train, epochs, dataModel.validation_percent)\n",
        "  \n",
        "  evaluation = Evaluation(dataModel, cnnModel.resultDir, cnnModel.logDir, model=cnnModel.model)\n",
        "  evaluation.evaluateAllHistory(history)\n",
        "\n",
        "experimentName = \"(Experiment 1) CNN Model A (1000 Epochs) (Session 1-5) (Ignore Other)\"\n",
        "modelName = \"modelA\"\n",
        "epochs = 1000\n",
        "\n",
        "training1(iemocapAll, experimentName, modelName, epochs)"
      ]
    },
    {
      "attachments": {},
      "cell_type": "markdown",
      "metadata": {},
      "source": [
        "## Training 2 (CNN Model A, 200 Epochs, Session 1-5, 5 Emotions with Merge)"
      ]
    },
    {
      "cell_type": "code",
      "execution_count": null,
      "metadata": {},
      "outputs": [],
      "source": [
        "def training2(dataModel, experimentName, modelName, epochs):\n",
        "  ySize = len(dataModel.labels_name)\n",
        "\n",
        "  cnnModel = CNNModel(modelName, experimentName, ySize=ySize)\n",
        "  history = cnnModel.fit(dataModel.x_train, dataModel.y_train, epochs, dataModel.validation_percent)\n",
        "  \n",
        "  evaluation = Evaluation(dataModel, cnnModel.resultDir, cnnModel.logDir, model=cnnModel.model)\n",
        "  evaluation.evaluateAllHistory(history)\n",
        "  \n",
        "  print('')\n",
        "  print('File Name: ' + cnnModel.logDir.split('/')[-1])\n",
        "\n",
        "experimentName = \"(Experiment 2) CNN Model A (200 Epochs) (Session 1-5) (Ignore Other) (5 Emotions with Merge)\"\n",
        "modelName = \"modelA\"\n",
        "epochs = 200\n",
        "\n",
        "training2(iemocap5Labels, experimentName, modelName, epochs)"
      ]
    },
    {
      "attachments": {},
      "cell_type": "markdown",
      "metadata": {},
      "source": [
        "## Training 3 (CNN Model B, 200 Epochs, Session 1-5, 5 Emotions with Merge, 0.00001 lr 0.0001 decay)"
      ]
    },
    {
      "cell_type": "code",
      "execution_count": null,
      "metadata": {},
      "outputs": [],
      "source": [
        "def training3(dataModel, experimentName, modelName, epochs):\n",
        "  ySize = len(dataModel.labels_name)\n",
        "  learning_rate = 0.00001\n",
        "  decay = 0.0001\n",
        "\n",
        "  cnnModel = CNNModel(modelName, experimentName, ySize=ySize, learning_rate=learning_rate, decay=decay)\n",
        "  history = cnnModel.fit(dataModel.x_train, dataModel.y_train, epochs, dataModel.validation_percent)\n",
        "  \n",
        "  evaluation = Evaluation(dataModel, cnnModel.resultDir, cnnModel.logDir, model=cnnModel.model)\n",
        "  evaluation.evaluateAllHistory(history)\n",
        "  \n",
        "  print('')\n",
        "  print('File Name: ' + cnnModel.logDir.split('/')[-1])\n",
        "\n",
        "experimentName = \"(Experiment 3) CNN Model B (200 Epochs) (Session 1-5) (Ignore Other) (5 Emotions with Merge) (00001 lr 0001 decay)\"\n",
        "modelName = \"modelB\"\n",
        "epochs = 200\n",
        "\n",
        "training3(iemocap5Labels, experimentName, modelName, epochs)"
      ]
    },
    {
      "attachments": {},
      "cell_type": "markdown",
      "metadata": {},
      "source": [
        "## Training 4 (CNN Model C, 200 Epochs, Session 1-5, 5 Emotions with Merge)"
      ]
    },
    {
      "cell_type": "code",
      "execution_count": null,
      "metadata": {},
      "outputs": [],
      "source": [
        "def training4(dataModel, experimentName, modelName, epochs):\n",
        "  ySize = len(dataModel.labels_name)\n",
        "  \n",
        "  cnnModel = CNNModel(modelName, experimentName, ySize=ySize)\n",
        "  history = cnnModel.fit(dataModel.x_train, dataModel.y_train, epochs, dataModel.validation_percent)\n",
        "  \n",
        "  evaluation = Evaluation(dataModel, cnnModel.resultDir, cnnModel.logDir, model=cnnModel.model)\n",
        "  evaluation.evaluateAllHistory(history)\n",
        "  \n",
        "  print('')\n",
        "  print('File Name: ' + cnnModel.logDir.split('/')[-1])\n",
        "\n",
        "experimentName = \"(Experiment 4) CNN Model C (200 Epochs) (Session 1-5) (Ignore Other) (5 Emotions with Merge)\"\n",
        "modelName = \"modelC\"\n",
        "epochs = 200\n",
        "\n",
        "training4(iemocap5Labels, experimentName, modelName, epochs)"
      ]
    },
    {
      "attachments": {},
      "cell_type": "markdown",
      "metadata": {},
      "source": [
        "## Training 5 (CNN Model D, 200 Epochs, Session 1-5, 5 Emotions with Merge)"
      ]
    },
    {
      "cell_type": "code",
      "execution_count": null,
      "metadata": {},
      "outputs": [],
      "source": [
        "def training5(dataModel, experimentName, modelName, epochs):\n",
        "  ySize = len(dataModel.labels_name)\n",
        "  \n",
        "  cnnModel = CNNModel(modelName, experimentName, ySize=ySize)\n",
        "  history = cnnModel.fit(dataModel.x_train, dataModel.y_train, epochs, dataModel.validation_percent)\n",
        "  \n",
        "  evaluation = Evaluation(dataModel, cnnModel.resultDir, cnnModel.logDir, model=cnnModel.model)\n",
        "  evaluation.evaluateAllHistory(history)\n",
        "  \n",
        "  print('')\n",
        "  print('File Name: ' + cnnModel.logDir.split('/')[-1])\n",
        "\n",
        "experimentName = \"(Experiment 5) CNN Model D (200 Epochs) (Session 1-5) (Ignore Other) (5 Emotions with Merge)\"\n",
        "modelName = \"modelD\"\n",
        "epochs = 200\n",
        "\n",
        "training5(iemocap5Labels, experimentName, modelName, epochs)"
      ]
    },
    {
      "attachments": {},
      "cell_type": "markdown",
      "metadata": {},
      "source": [
        "## Training 6 (CNN Model E, 200 Epochs, Session 1-5, 5 Emotions with Merge, 0.000001 lr 0.00001 decay)"
      ]
    },
    {
      "cell_type": "code",
      "execution_count": null,
      "metadata": {},
      "outputs": [],
      "source": [
        "def training6(dataModel, experimentName, modelName, epochs):\n",
        "  ySize = len(dataModel.labels_name)\n",
        "  learning_rate = 0.00001\n",
        "  decay = 0.0001\n",
        "\n",
        "  cnnModel = CNNModel(modelName, experimentName, ySize=ySize, learning_rate=learning_rate, decay=decay)\n",
        "  history = cnnModel.fit(dataModel.x_train, dataModel.y_train, epochs, dataModel.validation_percent)\n",
        "  \n",
        "  evaluation = Evaluation(dataModel, cnnModel.resultDir, cnnModel.logDir, model=cnnModel.model)\n",
        "  evaluation.evaluateAllHistory(history)\n",
        "  \n",
        "  print('')\n",
        "  print('File Name: ' + cnnModel.logDir.split('/')[-1])\n",
        "\n",
        "experimentName = \"(Experiment 6) CNN Model E (200 Epochs) (Session 1-5) (Ignore Other) (5 Emotions with Merge) (000001 lr 00001 decay)\"\n",
        "modelName = \"modelE\"\n",
        "epochs = 200\n",
        "\n",
        "training6(iemocap5Labels, experimentName, modelName, epochs)"
      ]
    },
    {
      "attachments": {},
      "cell_type": "markdown",
      "metadata": {},
      "source": [
        "## Training 7 (CNN Model A, 200 Epochs, Session 1-5, 5 Emotions with Merge and Ignore 6 lower)"
      ]
    },
    {
      "cell_type": "code",
      "execution_count": null,
      "metadata": {},
      "outputs": [],
      "source": [
        "labelsToInclude = ['Neutral', 'Frustration', 'Anger', 'Sadness', 'Happiness']\n",
        "mergeHappinessExcitement = True\n",
        "ignoreDuration = 6\n",
        "\n",
        "iemocap5LabelsIgnore6 = DataModel(labelsToInclude=labelsToInclude,\n",
        "                                  mergeHappinessExcitement=mergeHappinessExcitement,\n",
        "                                  ignoreDuration=ignoreDuration)\n",
        "iemocap5LabelsIgnore6.extractIEMOCAPData()\n",
        "iemocap5LabelsIgnore6.processData()\n",
        "\n",
        "def training7(dataModel, experimentName, modelName, epochs):\n",
        "  ySize = len(dataModel.labels_name)\n",
        "\n",
        "  cnnModel = CNNModel(modelName, experimentName, ySize=ySize)\n",
        "  history = cnnModel.fit(dataModel.x_train, dataModel.y_train, epochs, dataModel.validation_percent)\n",
        "  \n",
        "  evaluation = Evaluation(dataModel, cnnModel.resultDir, cnnModel.logDir, model=cnnModel.model)\n",
        "  evaluation.evaluateAllHistory(history)\n",
        "  \n",
        "  print('')\n",
        "  print('File Name: ' + cnnModel.logDir.split('/')[-1])\n",
        "\n",
        "experimentName = \"(Experiment 7) CNN Model A (200 Epochs) (Session 1-5) (Ignore Other) (5 Emotions with Merge and Ignore 6 lower)\"\n",
        "modelName = \"modelA\"\n",
        "epochs = 200\n",
        "\n",
        "training7(iemocap5LabelsIgnore6, experimentName, modelName, epochs)"
      ]
    },
    {
      "attachments": {},
      "cell_type": "markdown",
      "metadata": {},
      "source": [
        "## Training 8 (CNN Model A, 200 Epochs, Session 1-5, 5 Emotions with Merge and Split at 4)"
      ]
    },
    {
      "cell_type": "code",
      "execution_count": null,
      "metadata": {},
      "outputs": [],
      "source": [
        "labelsToInclude = ['Neutral', 'Frustration', 'Anger', 'Sadness', 'Happiness']\n",
        "mergeHappinessExcitement = True\n",
        "splitDuration = 4\n",
        "ignoreDuration = 1\n",
        "\n",
        "iemocap5LabelsSplit4 = DataModel(labelsToInclude=labelsToInclude,\n",
        "                                  mergeHappinessExcitement=mergeHappinessExcitement,\n",
        "                                  splitDuration=splitDuration,\n",
        "                                  ignoreDuration=ignoreDuration)\n",
        "iemocap5LabelsSplit4.extractIEMOCAPData()\n",
        "iemocap5LabelsSplit4.processData()\n",
        "\n",
        "def training8(dataModel, experimentName, modelName, epochs):\n",
        "  ySize = len(dataModel.labels_name)\n",
        "\n",
        "  cnnModel = CNNModel(modelName, experimentName, ySize=ySize)\n",
        "  history = cnnModel.fit(dataModel.x_train, dataModel.y_train, epochs, dataModel.validation_percent)\n",
        "  \n",
        "  evaluation = Evaluation(dataModel, cnnModel.resultDir, cnnModel.logDir, model=cnnModel.model)\n",
        "  evaluation.evaluateAllHistory(history)\n",
        "  \n",
        "  print('')\n",
        "  print('File Name: ' + cnnModel.logDir.split('/')[-1])\n",
        "\n",
        "experimentName = \"(Experiment 8) CNN Model A (200 Epochs) (Session 1-5) (Ignore Other) (5 Emotions with Merge and Split 4)\"\n",
        "modelName = \"modelA\"\n",
        "epochs = 200\n",
        "\n",
        "training8(iemocap5LabelsSplit4, experimentName, modelName, epochs)"
      ]
    },
    {
      "attachments": {},
      "cell_type": "markdown",
      "metadata": {},
      "source": [
        "## Training 9 (CNN Model A, 200 Epochs, Session 1-5, 5 Emotions with Merge and Ignore 2 lower with Split at 5)"
      ]
    },
    {
      "cell_type": "code",
      "execution_count": null,
      "metadata": {},
      "outputs": [],
      "source": [
        "labelsToInclude = ['Neutral', 'Frustration', 'Anger', 'Sadness', 'Happiness']\n",
        "mergeHappinessExcitement = True\n",
        "splitDuration = 4\n",
        "ignoreDuration = 2\n",
        "\n",
        "iemocap5LabelsSplit4Ignore2 = DataModel(labelsToInclude=labelsToInclude,\n",
        "                                        mergeHappinessExcitement=mergeHappinessExcitement,\n",
        "                                        splitDuration=splitDuration,\n",
        "                                        ignoreDuration=ignoreDuration)\n",
        "iemocap5LabelsSplit4Ignore2.extractIEMOCAPData()\n",
        "iemocap5LabelsSplit4Ignore2.processData()\n",
        "\n",
        "def training9(dataModel, experimentName, modelName, epochs):\n",
        "  ySize = len(dataModel.labels_name)\n",
        "\n",
        "  cnnModel = CNNModel(modelName, experimentName, ySize=ySize)\n",
        "  history = cnnModel.fit(dataModel.x_train, dataModel.y_train, epochs, dataModel.validation_percent)\n",
        "  \n",
        "  evaluation = Evaluation(dataModel, cnnModel.resultDir, cnnModel.logDir, model=cnnModel.model)\n",
        "  evaluation.evaluateAllHistory(history)\n",
        "  \n",
        "  print('')\n",
        "  print('File Name: ' + cnnModel.logDir.split('/')[-1])\n",
        "\n",
        "experimentName = \"(Experiment 9) CNN Model A (200 Epochs) (Session 1-5) (Ignore Other) (5 Emotions with Merge and Split 4 Ignore 2)\"\n",
        "modelName = \"modelA\"\n",
        "epochs = 200\n",
        "\n",
        "training9(iemocap5LabelsSplit4Ignore2, experimentName, modelName, epochs)"
      ]
    },
    {
      "attachments": {},
      "cell_type": "markdown",
      "metadata": {},
      "source": [
        "## Training 10 (CNN Model A, 200 Epochs, IEMOCAP & EmoDB, 5 Emotions with Merge and Split 4 Ignore 2)"
      ]
    },
    {
      "cell_type": "code",
      "execution_count": null,
      "metadata": {},
      "outputs": [],
      "source": [
        "labelsToInclude = ['Neutral', 'Frustration', 'Anger', 'Sadness', 'Happiness']\n",
        "mergeHappinessExcitement = True\n",
        "splitDuration = 4\n",
        "ignoreDuration = 2\n",
        "\n",
        "mixDataModel5LabelsSplit4Ignore2 = DataModel(labelsToInclude=labelsToInclude,\n",
        "                                              mergeHappinessExcitement=mergeHappinessExcitement,\n",
        "                                              splitDuration=splitDuration,\n",
        "                                              ignoreDuration=ignoreDuration)\n",
        "mixDataModel5LabelsSplit4Ignore2.extractIEMOCAPData()\n",
        "mixDataModel5LabelsSplit4Ignore2.extractEmoDBData()\n",
        "mixDataModel5LabelsSplit4Ignore2.processData()\n",
        "\n",
        "def training10(dataModel, experimentName, modelName, epochs):\n",
        "  ySize = len(dataModel.labels_name)\n",
        "\n",
        "  cnnModel = CNNModel(modelName, experimentName, ySize=ySize)\n",
        "  history = cnnModel.fit(dataModel.x_train, dataModel.y_train, epochs, dataModel.validation_percent)\n",
        "  \n",
        "  evaluation = Evaluation(dataModel, cnnModel.resultDir, cnnModel.logDir, model=cnnModel.model)\n",
        "  evaluation.evaluateAllHistory(history)\n",
        "  \n",
        "  print('')\n",
        "  print('File Name: ' + cnnModel.logDir.split('/')[-1])\n",
        "\n",
        "experimentName = \"(Experiment 10) CNN Model A (200 Epochs) (IEMOCAP EmoDB) (5 Emotions with Merge and Split 4 Ignore 2)\"\n",
        "modelName = \"modelA\"\n",
        "epochs = 200\n",
        "\n",
        "training10(mixDataModel5LabelsSplit4Ignore2, experimentName, modelName, epochs)"
      ]
    },
    {
      "attachments": {},
      "cell_type": "markdown",
      "metadata": {},
      "source": [
        "## Training 11 (CNN Model B, 200 Epochs, IEMOCAP & EmoDB, 5 Emotions with Merge and Split 4 Ignore 2)"
      ]
    },
    {
      "cell_type": "code",
      "execution_count": null,
      "metadata": {},
      "outputs": [],
      "source": [
        "labelsToInclude = ['Neutral', 'Frustration', 'Anger', 'Sadness', 'Happiness']\n",
        "mergeHappinessExcitement = True\n",
        "splitDuration = 4\n",
        "ignoreDuration = 2\n",
        "\n",
        "mixDataModel5LabelsSplit4Ignore2 = DataModel(labelsToInclude=labelsToInclude,\n",
        "                                              mergeHappinessExcitement=mergeHappinessExcitement,\n",
        "                                              splitDuration=splitDuration,\n",
        "                                              ignoreDuration=ignoreDuration)\n",
        "mixDataModel5LabelsSplit4Ignore2.extractIEMOCAPData()\n",
        "mixDataModel5LabelsSplit4Ignore2.extractEmoDBData()\n",
        "mixDataModel5LabelsSplit4Ignore2.processData()"
      ]
    },
    {
      "cell_type": "code",
      "execution_count": null,
      "metadata": {},
      "outputs": [],
      "source": [
        "def training11(dataModel, experimentName, modelName, epochs):\n",
        "  ySize = len(dataModel.labels_name)\n",
        "  learning_rate = 0.00001\n",
        "  decay = 0.0001\n",
        "\n",
        "  cnnModel = CNNModel(modelName, experimentName, ySize=ySize, learning_rate=learning_rate, decay=decay)\n",
        "  history = cnnModel.fit(dataModel.x_train, dataModel.y_train, epochs, dataModel.validation_percent)\n",
        "  \n",
        "  evaluation = Evaluation(dataModel, cnnModel.resultDir, cnnModel.logDir, model=cnnModel.model)\n",
        "  evaluation.evaluateAllHistory(history)\n",
        "  \n",
        "  print('')\n",
        "  print('File Name: ' + cnnModel.logDir.split('/')[-1])\n",
        "\n",
        "experimentName = \"(Experiment 11) CNN Model B (200 Epochs) (IEMOCAP EmoDB) (5 Emotions with Merge and Split 4 Ignore 2) (00001 lr 0001 decay)\"\n",
        "modelName = \"modelB\"\n",
        "epochs = 200\n",
        "\n",
        "training11(mixDataModel5LabelsSplit4Ignore2, experimentName, modelName, epochs)"
      ]
    },
    {
      "attachments": {},
      "cell_type": "markdown",
      "metadata": {},
      "source": [
        "## Training 12 (CNN Model B, 200 Epochs, IEMOCAP & EmoDB, Aug 2A, 5 Emotions with Merge and Split 4 Ignore 2)"
      ]
    },
    {
      "cell_type": "code",
      "execution_count": null,
      "metadata": {},
      "outputs": [],
      "source": [
        "labelsToInclude = ['Neutral', 'Frustration', 'Anger', 'Sadness', 'Happiness']\n",
        "mergeHappinessExcitement = True\n",
        "splitDuration = 4\n",
        "ignoreDuration = 2\n",
        "\n",
        "# Data Augmentation Parameters\n",
        "multiply = 2\n",
        "pitchScaleSemitonesOffset=3.0\n",
        "timeStretchOffset=0.2\n",
        "randomGainOffset=0.2\n",
        "addNoiseMaxFactor=0.2\n",
        "\n",
        "mixDataModel5LabelsSplit4Ignore2Aug2A = DataModel(labelsToInclude=labelsToInclude,\n",
        "                                                  mergeHappinessExcitement=mergeHappinessExcitement,\n",
        "                                                  splitDuration=splitDuration,\n",
        "                                                  ignoreDuration=ignoreDuration)\n",
        "mixDataModel5LabelsSplit4Ignore2Aug2A.extractIEMOCAPData()\n",
        "mixDataModel5LabelsSplit4Ignore2Aug2A.extractEmoDBData()\n",
        "mixDataModel5LabelsSplit4Ignore2Aug2A.dataAugmentation(multiply,\n",
        "                                                    pitchScaleSemitonesOffset=pitchScaleSemitonesOffset,\n",
        "                                                    timeStretchOffset=timeStretchOffset,\n",
        "                                                    randomGainOffset=randomGainOffset,\n",
        "                                                    addNoiseMaxFactor=addNoiseMaxFactor)\n",
        "mixDataModel5LabelsSplit4Ignore2Aug2A.processData()"
      ]
    },
    {
      "cell_type": "code",
      "execution_count": null,
      "metadata": {},
      "outputs": [],
      "source": [
        "def training12(dataModel, experimentName, modelName, epochs):\n",
        "  ySize = len(dataModel.labels_name)\n",
        "  learning_rate = 0.00001\n",
        "  decay = 0.0001\n",
        "\n",
        "  cnnModel = CNNModel(modelName, experimentName, ySize=ySize, learning_rate=learning_rate, decay=decay)\n",
        "  history = cnnModel.fit(dataModel.x_train, dataModel.y_train, epochs, dataModel.validation_percent)\n",
        "  \n",
        "  evaluation = Evaluation(dataModel, cnnModel.resultDir, cnnModel.logDir, model=cnnModel.model)\n",
        "  evaluation.evaluateAllHistory(history)\n",
        "  \n",
        "  print('')\n",
        "  print('File Name: ' + cnnModel.logDir.split('/')[-1])\n",
        "\n",
        "experimentName = \"(Experiment 12) CNN Model B (200 Epochs) (IEMOCAP EmoDB) (Data Aug 2A) (5 Emotions with Merge and Split 4 Ignore 2) (00001 lr 0001 decay)\"\n",
        "modelName = \"modelB\"\n",
        "epochs = 200\n",
        "\n",
        "training12(mixDataModel5LabelsSplit4Ignore2Aug2A, experimentName, modelName, epochs)"
      ]
    },
    {
      "attachments": {},
      "cell_type": "markdown",
      "metadata": {},
      "source": [
        "## Training 13 (CNN Model B, 200 Epochs, IEMOCAP & EmoDB, Aug 3A, 5 Emotions with Merge and Split 4 Ignore 2)"
      ]
    },
    {
      "cell_type": "code",
      "execution_count": null,
      "metadata": {},
      "outputs": [],
      "source": [
        "labelsToInclude = ['Neutral', 'Frustration', 'Anger', 'Sadness', 'Happiness']\n",
        "mergeHappinessExcitement = True\n",
        "splitDuration = 4\n",
        "ignoreDuration = 2\n",
        "\n",
        "# Data Augmentation Parameters\n",
        "multiply = 3\n",
        "pitchScaleSemitonesOffset=3.0\n",
        "timeStretchOffset=0.2\n",
        "randomGainOffset=0.2\n",
        "addNoiseMaxFactor=0.2\n",
        "\n",
        "mixDataModel5LabelsSplit4Ignore2Aug3A = DataModel(labelsToInclude=labelsToInclude,\n",
        "                                                  mergeHappinessExcitement=mergeHappinessExcitement,\n",
        "                                                  splitDuration=splitDuration,\n",
        "                                                  ignoreDuration=ignoreDuration)\n",
        "mixDataModel5LabelsSplit4Ignore2Aug3A.extractIEMOCAPData()\n",
        "mixDataModel5LabelsSplit4Ignore2Aug3A.extractEmoDBData()\n",
        "mixDataModel5LabelsSplit4Ignore2Aug3A.dataAugmentation(multiply,\n",
        "                                                    pitchScaleSemitonesOffset=pitchScaleSemitonesOffset,\n",
        "                                                    timeStretchOffset=timeStretchOffset,\n",
        "                                                    randomGainOffset=randomGainOffset,\n",
        "                                                    addNoiseMaxFactor=addNoiseMaxFactor)\n",
        "mixDataModel5LabelsSplit4Ignore2Aug3A.processData()"
      ]
    },
    {
      "cell_type": "code",
      "execution_count": null,
      "metadata": {},
      "outputs": [],
      "source": [
        "def training13(dataModel, experimentName, modelName, epochs):\n",
        "  ySize = len(dataModel.labels_name)\n",
        "  learning_rate = 0.00001\n",
        "  decay = 0.0001\n",
        "\n",
        "  cnnModel = CNNModel(modelName, experimentName, ySize=ySize, learning_rate=learning_rate, decay=decay)\n",
        "  history = cnnModel.fit(dataModel.x_train, dataModel.y_train, epochs, dataModel.validation_percent)\n",
        "  \n",
        "  evaluation = Evaluation(dataModel, cnnModel.resultDir, cnnModel.logDir, model=cnnModel.model)\n",
        "  evaluation.evaluateAllHistory(history)\n",
        "  \n",
        "  print('')\n",
        "  print('File Name: ' + cnnModel.logDir.split('/')[-1])\n",
        "\n",
        "experimentName = \"(Experiment 13) CNN Model B (200 Epochs) (IEMOCAP EmoDB) (Data Aug 3A) (5 Emotions with Merge and Split 4 Ignore 2) (00001 lr 0001 decay)\"\n",
        "modelName = \"modelB\"\n",
        "epochs = 200\n",
        "\n",
        "training13(mixDataModel5LabelsSplit4Ignore2Aug3A, experimentName, modelName, epochs)"
      ]
    },
    {
      "attachments": {},
      "cell_type": "markdown",
      "metadata": {},
      "source": [
        "## Training 14 (CNN LSTM Model B, 200 Epochs, IEMOCAP & EmoDB, No Aug, 5 Emotions with Merge and Split 4 Ignore 2)"
      ]
    },
    {
      "cell_type": "code",
      "execution_count": null,
      "metadata": {},
      "outputs": [],
      "source": [
        "labelsToInclude = ['Neutral', 'Frustration', 'Anger', 'Sadness', 'Happiness']\n",
        "mergeHappinessExcitement = True\n",
        "splitDuration = 4\n",
        "ignoreDuration = 2\n",
        "\n",
        "mixDataModel5LabelsSplit4Ignore2 = DataModel(labelsToInclude=labelsToInclude,\n",
        "                                                  mergeHappinessExcitement=mergeHappinessExcitement,\n",
        "                                                  splitDuration=splitDuration,\n",
        "                                                  ignoreDuration=ignoreDuration)\n",
        "mixDataModel5LabelsSplit4Ignore2.extractIEMOCAPData()\n",
        "mixDataModel5LabelsSplit4Ignore2.extractEmoDBData()\n",
        "mixDataModel5LabelsSplit4Ignore2.processData()"
      ]
    },
    {
      "cell_type": "code",
      "execution_count": null,
      "metadata": {},
      "outputs": [],
      "source": [
        "def training14(dataModel, experimentName, modelName, epochs):\n",
        "  ySize = len(dataModel.labels_name)\n",
        "  learning_rate = 0.0001\n",
        "  decay = 0.001\n",
        "  batch_size = 32\n",
        "\n",
        "  cnnModel = CNNModel(modelName, experimentName, ySize=ySize, learning_rate=learning_rate, decay=decay)\n",
        "  history = cnnModel.fit(dataModel.x_train, dataModel.y_train, epochs, dataModel.validation_percent, batch_size=batch_size)\n",
        "  \n",
        "  evaluation = Evaluation(dataModel, cnnModel.resultDir, cnnModel.logDir, model=cnnModel.model)\n",
        "  evaluation.evaluateAllHistory(history)\n",
        "  \n",
        "  print('')\n",
        "  print('File Name: ' + cnnModel.logDir.split('/')[-1])\n",
        "\n",
        "experimentName = \"(Experiment 14) CNN LSTM Model F (200 Epochs) (IEMOCAP EmoDB) (No Data Aug) (5 Emotions with Merge and Split 4 Ignore 2) (0001 lr 001 decay 32 batchsize)\"\n",
        "# experimentName = \"Testing\"\n",
        "modelName = \"modelF\"\n",
        "epochs = 200\n",
        "\n",
        "training14(mixDataModel5LabelsSplit4Ignore2, experimentName, modelName, epochs)"
      ]
    },
    {
      "attachments": {},
      "cell_type": "markdown",
      "metadata": {},
      "source": [
        "## Training 15 (CNN LSTM Model G, 200 Epochs, IEMOCAP & EmoDB, No Aug, 5 Emotions with Merge and Split 4 Ignore 2)"
      ]
    },
    {
      "cell_type": "code",
      "execution_count": null,
      "metadata": {},
      "outputs": [],
      "source": [
        "labelsToInclude = ['Neutral', 'Frustration', 'Anger', 'Sadness', 'Happiness']\n",
        "mergeHappinessExcitement = True\n",
        "splitDuration = 4\n",
        "ignoreDuration = 2\n",
        "\n",
        "mixDataModel5LabelsSplit4Ignore2 = DataModel(labelsToInclude=labelsToInclude,\n",
        "                                                  mergeHappinessExcitement=mergeHappinessExcitement,\n",
        "                                                  splitDuration=splitDuration,\n",
        "                                                  ignoreDuration=ignoreDuration)\n",
        "mixDataModel5LabelsSplit4Ignore2.extractIEMOCAPData()\n",
        "mixDataModel5LabelsSplit4Ignore2.extractEmoDBData()\n",
        "mixDataModel5LabelsSplit4Ignore2.processData()"
      ]
    },
    {
      "cell_type": "code",
      "execution_count": null,
      "metadata": {},
      "outputs": [],
      "source": [
        "def training15(dataModel, experimentName, modelName, epochs):\n",
        "  ySize = len(dataModel.labels_name)\n",
        "  learning_rate = 0.0001\n",
        "  decay = 0.001\n",
        "  batch_size = 32\n",
        "\n",
        "  cnnModel = CNNModel(modelName, experimentName, ySize=ySize, learning_rate=learning_rate, decay=decay)\n",
        "  history = cnnModel.fit(dataModel.x_train, dataModel.y_train, epochs, dataModel.validation_percent, batch_size=batch_size)\n",
        "  \n",
        "  evaluation = Evaluation(dataModel, cnnModel.resultDir, cnnModel.logDir, model=cnnModel.model)\n",
        "  evaluation.evaluateAllHistory(history)\n",
        "  \n",
        "  print('')\n",
        "  print('File Name: ' + cnnModel.logDir.split('/')[-1])\n",
        "\n",
        "experimentName = \"(Experiment 15) CNN LSTM Model G (200 Epochs) (IEMOCAP EmoDB) (No Data Aug) (5 Emotions with Merge and Split 4 Ignore 2) (0001 lr 001 decay 32 batchsize)\"\n",
        "# experimentName = \"Testing\"\n",
        "modelName = \"modelG\"\n",
        "epochs = 200\n",
        "\n",
        "training15(mixDataModel5LabelsSplit4Ignore2, experimentName, modelName, epochs)"
      ]
    },
    {
      "attachments": {},
      "cell_type": "markdown",
      "metadata": {},
      "source": [
        "## Training 16"
      ]
    },
    {
      "cell_type": "code",
      "execution_count": null,
      "metadata": {},
      "outputs": [],
      "source": [
        "# %load_ext tensorboard\n",
        "# %tensorboard --logdir '/content/drive/MyDrive/HKU/FYP/Speech Emotion Recognition/'"
      ]
    }
  ],
  "metadata": {
    "colab": {
      "provenance": []
    },
    "gpuClass": "premium",
    "kernelspec": {
      "display_name": "Python 3.8.3 64-bit",
      "language": "python",
      "name": "python3"
    },
    "language_info": {
      "codemirror_mode": {
        "name": "ipython",
        "version": 3
      },
      "file_extension": ".py",
      "mimetype": "text/x-python",
      "name": "python",
      "nbconvert_exporter": "python",
      "pygments_lexer": "ipython3",
      "version": "3.8.3 (v3.8.3:6f8c8320e9, May 13 2020, 16:29:34) \n[Clang 6.0 (clang-600.0.57)]"
    },
    "vscode": {
      "interpreter": {
        "hash": "aee8b7b246df8f9039afb4144a1f6fd8d2ca17a180786b69acc140d282b71a49"
      }
    }
  },
  "nbformat": 4,
  "nbformat_minor": 0
}
