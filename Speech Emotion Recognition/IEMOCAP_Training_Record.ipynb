{
  "cells": [
    {
      "cell_type": "code",
      "execution_count": 1,
      "metadata": {},
      "outputs": [
        {
          "name": "stderr",
          "output_type": "stream",
          "text": [
            "/Library/Frameworks/Python.framework/Versions/3.8/lib/python3.8/site-packages/pydub/utils.py:170: RuntimeWarning: Couldn't find ffmpeg or avconv - defaulting to ffmpeg, but may not work\n",
            "  warn(\"Couldn't find ffmpeg or avconv - defaulting to ffmpeg, but may not work\", RuntimeWarning)\n"
          ]
        },
        {
          "name": "stdout",
          "output_type": "stream",
          "text": [
            "TensorFlow version:   2.7.0\n",
            "TensorBoard version:  2.10.0\n"
          ]
        }
      ],
      "source": [
        "import os\n",
        "import numpy as np\n",
        "import pandas as pd\n",
        "import seaborn as sns\n",
        "\n",
        "from pydub import AudioSegment, effects\n",
        "from pydub.generators import WhiteNoise\n",
        "from pydub.playback import play\n",
        "from pydub.utils import mediainfo\n",
        "import librosa\n",
        "from librosa import display   \n",
        "import noisereduce as nr\n",
        "import IPython.display as ipd\n",
        "from IPython.display import Audio\n",
        "from IPython.display import clear_output\n",
        "import matplotlib.pyplot as plt\n",
        "import pytz\n",
        "import cv2\n",
        "\n",
        "import tensorflow as tf\n",
        "import tensorboard\n",
        "from sklearn import metrics\n",
        "from sklearn.preprocessing import LabelEncoder\n",
        "from json_tricks import dump, load\n",
        "\n",
        "from DataModel import DataModel\n",
        "from CNNModel import CNNModel\n",
        "from Evaluation import Evaluation\n",
        "\n",
        "from datetime import datetime\n",
        "import warnings\n",
        "warnings.filterwarnings('ignore')\n",
        "\n",
        "print(\"TensorFlow version:  \", tf.__version__)\n",
        "print(\"TensorBoard version: \", tensorboard.__version__)\n",
        "\n",
        "tz = pytz.timezone('Asia/Hong_Kong')"
      ]
    },
    {
      "attachments": {},
      "cell_type": "markdown",
      "metadata": {},
      "source": [
        "# Data Preparatioin"
      ]
    },
    {
      "cell_type": "code",
      "execution_count": 3,
      "metadata": {},
      "outputs": [
        {
          "name": "stdout",
          "output_type": "stream",
          "text": [
            "IEMOCAP Data Extration Completed\n",
            "    Number of data: 8170\n",
            "      Neutral     : 1793\n",
            "      Frustration : 2006\n",
            "      Anger       : 1176\n",
            "      Sadness     : 1266\n",
            "      Happiness   : 630\n",
            "      Excitement  : 1148\n",
            "      Surprise    : 109\n",
            "      Disgust     : 2\n",
            "      Fear        : 40\n",
            "\n",
            "Processing data to Mel Spectrogram...\n",
            "Mel Spectrogram Processing Completed\n",
            "    Shape of images: (8170, 256, 256, 1)\n",
            "\n",
            "Processing labels...\n",
            "Label Processing Completed\n",
            "\n",
            "Splitting data...\n",
            "Data Split Completed\n",
            "\n",
            "Data Processing Completed!\n",
            "  Data shapes:\n",
            "    x_train  : (6536, 256, 256, 1)\n",
            "    y_train  : (6536,)\n",
            "    sr_train : (6536,)\n",
            "    x_test   : (1634, 256, 256, 1)\n",
            "    y_test   : (1634,)\n",
            "    sr_test  : (1634,)\n",
            "\n"
          ]
        }
      ],
      "source": [
        "dataModelAll = DataModel()\n",
        "dataModelAll.extractIEMOCAPData()\n",
        "dataModelAll.processData()"
      ]
    },
    {
      "cell_type": "code",
      "execution_count": 3,
      "metadata": {},
      "outputs": [
        {
          "name": "stdout",
          "output_type": "stream",
          "text": [
            "IEMOCAP Data Extration Completed\n",
            "    Number of data: 8019\n",
            "      Neutral     : 1793\n",
            "      Frustration : 2006\n",
            "      Anger       : 1176\n",
            "      Sadness     : 1266\n",
            "      Happiness   : 1778\n",
            "      Excitement  : 0\n",
            "      Surprise    : 0\n",
            "      Disgust     : 0\n",
            "      Fear        : 0\n",
            "\n",
            "Processing data to Mel Spectrogram...\n",
            "Mel Spectrogram Processing Completed\n",
            "    Shape of images: (8019, 256, 256, 1)\n",
            "\n",
            "Processing labels...\n",
            "Label Processing Completed\n",
            "\n",
            "Splitting data...\n",
            "Data Split Completed\n",
            "\n",
            "Data Processing Completed!\n",
            "  Data shapes:\n",
            "    x_train  : (6416, 256, 256, 1)\n",
            "    y_train  : (6416,)\n",
            "    sr_train : (6416,)\n",
            "    x_test   : (1603, 256, 256, 1)\n",
            "    y_test   : (1603,)\n",
            "    sr_test  : (1603,)\n",
            "\n"
          ]
        }
      ],
      "source": [
        "labelsToInclude = ['Neutral', 'Frustration', 'Anger', 'Sadness', 'Happiness']\n",
        "mergeHappinessExcitement = True\n",
        "\n",
        "dataModel5Labels = DataModel(labelsToInclude=labelsToInclude, mergeHappinessExcitement=mergeHappinessExcitement)\n",
        "dataModel5Labels.extractIEMOCAPData()\n",
        "dataModel5Labels.processData()"
      ]
    },
    {
      "cell_type": "code",
      "execution_count": 2,
      "metadata": {},
      "outputs": [
        {
          "name": "stdout",
          "output_type": "stream",
          "text": [
            "EmoDB Data Extration Completed\n",
            "    Number of data: 408\n",
            "      Neutral     : 79\n",
            "      Frustration : 69\n",
            "      Anger       : 127\n",
            "      Sadness     : 62\n",
            "      Happiness   : 71\n",
            "      Excitement  : 0\n",
            "      Surprise    : 0\n",
            "      Disgust     : 0\n",
            "      Fear        : 0\n",
            "      Boredom     : 0\n",
            "\n",
            "Processing data to Mel Spectrogram...\n",
            "Mel Spectrogram Processing Completed\n",
            "    Shape of images: (408, 256, 256, 1)\n",
            "\n",
            "Processing labels...\n",
            "Label Processing Completed\n",
            "\n",
            "Splitting data...\n",
            "Data Split Completed\n",
            "\n",
            "Data Processing Completed!\n",
            "  Data shapes:\n",
            "    x_train  : (327, 256, 256, 1)\n",
            "    y_train  : (327,)\n",
            "    sr_train : (327,)\n",
            "    x_test   : (81, 256, 256, 1)\n",
            "    y_test   : (81,)\n",
            "    sr_test  : (81,)\n",
            "\n"
          ]
        }
      ],
      "source": [
        "labelsToInclude = ['Neutral', 'Frustration', 'Anger', 'Sadness', 'Happiness']\n",
        "mergeHappinessExcitement = True\n",
        "\n",
        "emoDBModel = DataModel(labelsToInclude=labelsToInclude, mergeHappinessExcitement=mergeHappinessExcitement)\n",
        "emoDBModel.extractEmoDBData()\n",
        "emoDBModel.processData()"
      ]
    },
    {
      "cell_type": "code",
      "execution_count": 2,
      "metadata": {},
      "outputs": [
        {
          "name": "stdout",
          "output_type": "stream",
          "text": [
            "Data Extration Completed\n",
            "    Number of data: 8427\n",
            "      Neutral     : 1872\n",
            "      Frustration : 2075\n",
            "      Anger       : 1303\n",
            "      Sadness     : 1328\n",
            "      Happiness   : 1849\n",
            "      Excitement  : 0\n",
            "      Surprise    : 0\n",
            "      Disgust     : 0\n",
            "      Fear        : 0\n",
            "      Boredom     : 0\n",
            "\n",
            "Processing data to Mel Spectrogram...\n",
            "Mel Spectrogram Processing Completed\n",
            "    Shape of images: (8427, 256, 256, 1)\n",
            "\n",
            "Processing labels...\n",
            "Label Processing Completed\n",
            "\n",
            "Splitting data...\n",
            "Data Split Completed\n",
            "\n",
            "Data Processing Completed!\n",
            "  Data shapes:\n",
            "    x_train  : (6742, 256, 256, 1)\n",
            "    y_train  : (6742,)\n",
            "    sr_train : (6742,)\n",
            "    x_test   : (1685, 256, 256, 1)\n",
            "    y_test   : (1685,)\n",
            "    sr_test  : (1685,)\n",
            "\n"
          ]
        }
      ],
      "source": [
        "labelsToInclude = ['Neutral', 'Frustration', 'Anger', 'Sadness', 'Happiness']\n",
        "mergeHappinessExcitement = True\n",
        "\n",
        "mixDataModel = DataModel(labelsToInclude=labelsToInclude, mergeHappinessExcitement=mergeHappinessExcitement)\n",
        "mixDataModel.extractIEMOCAPData()\n",
        "mixDataModel.extractEmoDBData()\n",
        "mixDataModel.processData()"
      ]
    },
    {
      "attachments": {},
      "cell_type": "markdown",
      "metadata": {},
      "source": [
        "# Training"
      ]
    },
    {
      "cell_type": "code",
      "execution_count": null,
      "metadata": {},
      "outputs": [],
      "source": [
        "def training1(dataModel, experimentName, modelName, epochs):\n",
        "  cnnModel = CNNModel(modelName, experimentName)\n",
        "  history = cnnModel.fit(dataModel.x_train, dataModel.y_train, epochs, dataModel.validation_percent)\n",
        "  \n",
        "  evaluation = Evaluation(dataModel, cnnModel.resultDir, cnnModel.logDir, model=cnnModel.model)\n",
        "  evaluation.evaluateAllHistory(history)\n",
        "\n",
        "experimentName = \"(Experiment 1) CNN Model A (1000 Epochs) (Session 1-5) (Ignore Other)\"\n",
        "modelName = \"modelA\"\n",
        "epochs = 1000\n",
        "\n",
        "training1(dataModelAll, experimentName, modelName, epochs)"
      ]
    },
    {
      "cell_type": "code",
      "execution_count": null,
      "metadata": {},
      "outputs": [],
      "source": [
        "def training2(dataModel, experimentName, modelName, epochs):\n",
        "  ySize = len(dataModel.labels_name)\n",
        "\n",
        "  cnnModel = CNNModel(modelName, experimentName, ySize=ySize)\n",
        "  history = cnnModel.fit(dataModel.x_train, dataModel.y_train, epochs, dataModel.validation_percent)\n",
        "  \n",
        "  evaluation = Evaluation(dataModel, cnnModel.resultDir, cnnModel.logDir, model=cnnModel.model)\n",
        "  evaluation.evaluateAllHistory(history)\n",
        "  \n",
        "  print('')\n",
        "  print('File Name: ' + cnnModel.logDir.split('/')[-1])\n",
        "\n",
        "experimentName = \"(Experiment 2) CNN Model A (200 Epochs) (Session 1-5) (Ignore Other) (5 Emotions with Merge)\"\n",
        "modelName = \"modelA\"\n",
        "epochs = 200\n",
        "\n",
        "training2(dataModel5Labels, experimentName, modelName, epochs)"
      ]
    },
    {
      "cell_type": "code",
      "execution_count": null,
      "metadata": {},
      "outputs": [],
      "source": [
        "def training3(dataModel, experimentName, modelName, epochs):\n",
        "  ySize = len(dataModel.labels_name)\n",
        "  learning_rate = 0.00001\n",
        "  decay = 0.0001\n",
        "\n",
        "  cnnModel = CNNModel(modelName, experimentName, ySize=ySize, learning_rate=learning_rate, decay=decay)\n",
        "  history = cnnModel.fit(dataModel.x_train, dataModel.y_train, epochs, dataModel.validation_percent)\n",
        "  \n",
        "  evaluation = Evaluation(dataModel, cnnModel.resultDir, cnnModel.logDir, model=cnnModel.model)\n",
        "  evaluation.evaluateAllHistory(history)\n",
        "  \n",
        "  print('')\n",
        "  print('File Name: ' + cnnModel.logDir.split('/')[-1])\n",
        "\n",
        "experimentName = \"(Experiment 3) CNN Model B (200 Epochs) (Session 1-5) (Ignore Other) (5 Emotions with Merge) (00001 lr 0001 decay)\"\n",
        "modelName = \"modelB\"\n",
        "epochs = 200\n",
        "\n",
        "training3(dataModel5Labels, experimentName, modelName, epochs)"
      ]
    },
    {
      "cell_type": "code",
      "execution_count": null,
      "metadata": {},
      "outputs": [],
      "source": [
        "def training4(dataModel, experimentName, modelName, epochs):\n",
        "  ySize = len(dataModel.labels_name)\n",
        "  \n",
        "  cnnModel = CNNModel(modelName, experimentName, ySize=ySize)\n",
        "  history = cnnModel.fit(dataModel.x_train, dataModel.y_train, epochs, dataModel.validation_percent)\n",
        "  \n",
        "  evaluation = Evaluation(dataModel, cnnModel.resultDir, cnnModel.logDir, model=cnnModel.model)\n",
        "  evaluation.evaluateAllHistory(history)\n",
        "  \n",
        "  print('')\n",
        "  print('File Name: ' + cnnModel.logDir.split('/')[-1])\n",
        "\n",
        "experimentName = \"(Experiment 4) CNN Model C (200 Epochs) (Session 1-5) (Ignore Other) (5 Emotions with Merge)\"\n",
        "modelName = \"modelC\"\n",
        "epochs = 200\n",
        "\n",
        "training4(dataModel5Labels, experimentName, modelName, epochs)"
      ]
    },
    {
      "cell_type": "code",
      "execution_count": null,
      "metadata": {},
      "outputs": [],
      "source": [
        "def training5(dataModel, experimentName, modelName, epochs):\n",
        "  ySize = len(dataModel.labels_name)\n",
        "  \n",
        "  cnnModel = CNNModel(modelName, experimentName, ySize=ySize)\n",
        "  history = cnnModel.fit(dataModel.x_train, dataModel.y_train, epochs, dataModel.validation_percent)\n",
        "  \n",
        "  evaluation = Evaluation(dataModel, cnnModel.resultDir, cnnModel.logDir, model=cnnModel.model)\n",
        "  evaluation.evaluateAllHistory(history)\n",
        "  \n",
        "  print('')\n",
        "  print('File Name: ' + cnnModel.logDir.split('/')[-1])\n",
        "\n",
        "experimentName = \"(Experiment 5) CNN Model D (200 Epochs) (Session 1-5) (Ignore Other) (5 Emotions with Merge)\"\n",
        "modelName = \"modelD\"\n",
        "epochs = 200\n",
        "\n",
        "training5(dataModel5Labels, experimentName, modelName, epochs)"
      ]
    },
    {
      "cell_type": "code",
      "execution_count": null,
      "metadata": {},
      "outputs": [],
      "source": [
        "def training6(dataModel, experimentName, modelName, epochs):\n",
        "  ySize = len(dataModel.labels_name)\n",
        "  learning_rate = 0.00001\n",
        "  decay = 0.0001\n",
        "\n",
        "  cnnModel = CNNModel(modelName, experimentName, ySize=ySize, learning_rate=learning_rate, decay=decay)\n",
        "  history = cnnModel.fit(dataModel.x_train, dataModel.y_train, epochs, dataModel.validation_percent)\n",
        "  \n",
        "  evaluation = Evaluation(dataModel, cnnModel.resultDir, cnnModel.logDir, model=cnnModel.model)\n",
        "  evaluation.evaluateAllHistory(history)\n",
        "  \n",
        "  print('')\n",
        "  print('File Name: ' + cnnModel.logDir.split('/')[-1])\n",
        "\n",
        "experimentName = \"(Experiment 6) CNN Model E (200 Epochs) (Session 1-5) (Ignore Other) (5 Emotions with Merge) (000001 lr 00001 decay)\"\n",
        "modelName = \"modelE\"\n",
        "epochs = 200\n",
        "\n",
        "training6(dataModel5Labels, experimentName, modelName, epochs)"
      ]
    },
    {
      "cell_type": "code",
      "execution_count": null,
      "metadata": {},
      "outputs": [],
      "source": [
        "labelsToInclude = ['Neutral', 'Frustration', 'Anger', 'Sadness', 'Happiness']\n",
        "mergeHappinessExcitement = True\n",
        "ignoreDuration = 6\n",
        "\n",
        "dataModel5LabelsIgnore6 = DataIEMOCAP(labelsToInclude=labelsToInclude,\n",
        "                                      mergeHappinessExcitement=mergeHappinessExcitement,\n",
        "                                      ignoreDuration=ignoreDuration)\n",
        "dataModel5LabelsIgnore6.processData()\n",
        "\n",
        "def training7(dataModel, experimentName, modelName, epochs):\n",
        "  ySize = len(dataModel.labels_name)\n",
        "\n",
        "  cnnModel = CNNModel(modelName, experimentName, ySize=ySize)\n",
        "  history = cnnModel.fit(dataModel.x_train, dataModel.y_train, epochs, dataModel.validation_percent)\n",
        "  \n",
        "  evaluation = Evaluation(dataModel, cnnModel.resultDir, cnnModel.logDir, model=cnnModel.model)\n",
        "  evaluation.evaluateAllHistory(history)\n",
        "  \n",
        "  print('')\n",
        "  print('File Name: ' + cnnModel.logDir.split('/')[-1])\n",
        "\n",
        "experimentName = \"(Experiment 7) CNN Model A (200 Epochs) (Session 1-5) (Ignore Other) (5 Emotions with Merge and Ignore 6 lower)\"\n",
        "modelName = \"modelA\"\n",
        "epochs = 200\n",
        "\n",
        "training7(dataModel5LabelsIgnore6, experimentName, modelName, epochs)"
      ]
    },
    {
      "cell_type": "code",
      "execution_count": null,
      "metadata": {},
      "outputs": [],
      "source": [
        "labelsToInclude = ['Neutral', 'Frustration', 'Anger', 'Sadness', 'Happiness']\n",
        "mergeHappinessExcitement = True\n",
        "splitDuration = 4\n",
        "ignoreDuration = 1\n",
        "\n",
        "dataModel5LabelsSplit4 = DataIEMOCAP(labelsToInclude=labelsToInclude,\n",
        "                                      mergeHappinessExcitement=mergeHappinessExcitement,\n",
        "                                      splitDuration=splitDuration,\n",
        "                                      ignoreDuration=ignoreDuration)\n",
        "dataModel5LabelsSplit4.processData()\n",
        "\n",
        "def training8(dataModel, experimentName, modelName, epochs):\n",
        "  ySize = len(dataModel.labels_name)\n",
        "\n",
        "  cnnModel = CNNModel(modelName, experimentName, ySize=ySize)\n",
        "  history = cnnModel.fit(dataModel.x_train, dataModel.y_train, epochs, dataModel.validation_percent)\n",
        "  \n",
        "  evaluation = Evaluation(dataModel, cnnModel.resultDir, cnnModel.logDir, model=cnnModel.model)\n",
        "  evaluation.evaluateAllHistory(history)\n",
        "  \n",
        "  print('')\n",
        "  print('File Name: ' + cnnModel.logDir.split('/')[-1])\n",
        "\n",
        "experimentName = \"(Experiment 8) CNN Model A (200 Epochs) (Session 1-5) (Ignore Other) (5 Emotions with Merge and Split 4)\"\n",
        "modelName = \"modelA\"\n",
        "epochs = 200\n",
        "\n",
        "training8(dataModel5LabelsSplit4, experimentName, modelName, epochs)"
      ]
    },
    {
      "cell_type": "code",
      "execution_count": null,
      "metadata": {},
      "outputs": [],
      "source": [
        "labelsToInclude = ['Neutral', 'Frustration', 'Anger', 'Sadness', 'Happiness']\n",
        "mergeHappinessExcitement = True\n",
        "splitDuration = 4\n",
        "ignoreDuration = 2\n",
        "\n",
        "dataModel5LabelsSplit4Ignore2 = DataIEMOCAP(labelsToInclude=labelsToInclude,\n",
        "                                      mergeHappinessExcitement=mergeHappinessExcitement,\n",
        "                                      splitDuration=splitDuration,\n",
        "                                      ignoreDuration=ignoreDuration)\n",
        "dataModel5LabelsSplit4Ignore2.processData()\n",
        "\n",
        "def training9(dataModel, experimentName, modelName, epochs):\n",
        "  ySize = len(dataModel.labels_name)\n",
        "\n",
        "  cnnModel = CNNModel(modelName, experimentName, ySize=ySize)\n",
        "  history = cnnModel.fit(dataModel.x_train, dataModel.y_train, epochs, dataModel.validation_percent)\n",
        "  \n",
        "  evaluation = Evaluation(dataModel, cnnModel.resultDir, cnnModel.logDir, model=cnnModel.model)\n",
        "  evaluation.evaluateAllHistory(history)\n",
        "  \n",
        "  print('')\n",
        "  print('File Name: ' + cnnModel.logDir.split('/')[-1])\n",
        "\n",
        "experimentName = \"(Experiment 9) CNN Model A (200 Epochs) (Session 1-5) (Ignore Other) (5 Emotions with Merge and Split 4 Ignore 2)\"\n",
        "modelName = \"modelA\"\n",
        "epochs = 200\n",
        "\n",
        "training9(dataModel5LabelsSplit4Ignore2, experimentName, modelName, epochs)"
      ]
    },
    {
      "cell_type": "code",
      "execution_count": null,
      "metadata": {},
      "outputs": [],
      "source": [
        "# %load_ext tensorboard\n",
        "# %tensorboard --logdir '/content/drive/MyDrive/HKU/FYP/Speech Emotion Recognition/'"
      ]
    }
  ],
  "metadata": {
    "colab": {
      "provenance": []
    },
    "gpuClass": "premium",
    "kernelspec": {
      "display_name": "Python 3.8.3 64-bit",
      "language": "python",
      "name": "python3"
    },
    "language_info": {
      "codemirror_mode": {
        "name": "ipython",
        "version": 3
      },
      "file_extension": ".py",
      "mimetype": "text/x-python",
      "name": "python",
      "nbconvert_exporter": "python",
      "pygments_lexer": "ipython3",
      "version": "3.8.3"
    },
    "vscode": {
      "interpreter": {
        "hash": "aee8b7b246df8f9039afb4144a1f6fd8d2ca17a180786b69acc140d282b71a49"
      }
    }
  },
  "nbformat": 4,
  "nbformat_minor": 0
}
